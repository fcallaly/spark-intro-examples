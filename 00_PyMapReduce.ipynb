{
 "cells": [
  {
   "cell_type": "markdown",
   "metadata": {},
   "source": [
    "## Map Reduce Concepts\n",
    "\n",
    "This notebook is purely to illustrate the concept of Map Reduce programming.\n",
    "\n",
    "This is NOT the most efficient way to achieve the result displayed, the purpose is to illustrate MR/Spark Concepts."
   ]
  },
  {
   "cell_type": "code",
   "execution_count": 1,
   "metadata": {},
   "outputs": [],
   "source": [
    "input_list = [('Emily', 'Swansea', 4000), ('Tom', 'London', 3500), ('Jayne', 'Swansea', 5100), ('Andy', 'London', 2800),\n",
    "              ('Dave', 'London', 5500), ('Zoe', 'Swansea', 2100), ('Robert', 'Paris', 6100)]"
   ]
  },
  {
   "cell_type": "markdown",
   "metadata": {},
   "source": [
    "A Map function changes the dataset, producing a new dataset"
   ]
  },
  {
   "cell_type": "code",
   "execution_count": 2,
   "metadata": {},
   "outputs": [],
   "source": [
    "def get_location_and_salary(item):\n",
    "    return item[1:]\n",
    "\n",
    "mapped_list = list(map(get_location_and_salary, input_list))"
   ]
  },
  {
   "cell_type": "code",
   "execution_count": 3,
   "metadata": {},
   "outputs": [
    {
     "data": {
      "text/plain": [
       "[('Swansea', 4000),\n",
       " ('London', 3500),\n",
       " ('Swansea', 5100),\n",
       " ('London', 2800),\n",
       " ('London', 5500),\n",
       " ('Swansea', 2100),\n",
       " ('Paris', 6100)]"
      ]
     },
     "execution_count": 3,
     "metadata": {},
     "output_type": "execute_result"
    }
   ],
   "source": [
    "mapped_list"
   ]
  },
  {
   "cell_type": "markdown",
   "metadata": {},
   "source": [
    "A shuffle re-arranges the data according to some key - e.g. this could be a hash"
   ]
  },
  {
   "cell_type": "code",
   "execution_count": 4,
   "metadata": {},
   "outputs": [],
   "source": [
    "partitions = {}\n",
    "def shuffle(item):\n",
    "    print(item)\n",
    "    if item[0] in partitions:\n",
    "        partitions[item[0]].append(item[1])\n",
    "    else:\n",
    "        partitions[item[0]] = [item[1]]"
   ]
  },
  {
   "cell_type": "code",
   "execution_count": 5,
   "metadata": {},
   "outputs": [
    {
     "name": "stdout",
     "output_type": "stream",
     "text": [
      "('Swansea', 4000)\n",
      "('London', 3500)\n",
      "('Swansea', 5100)\n",
      "('London', 2800)\n",
      "('London', 5500)\n",
      "('Swansea', 2100)\n",
      "('Paris', 6100)\n"
     ]
    },
    {
     "data": {
      "text/plain": [
       "{'Swansea': [4000, 5100, 2100], 'London': [3500, 2800, 5500], 'Paris': [6100]}"
      ]
     },
     "execution_count": 5,
     "metadata": {},
     "output_type": "execute_result"
    }
   ],
   "source": [
    "\n",
    "list(map(shuffle, mapped_list))\n",
    "partitions"
   ]
  },
  {
   "cell_type": "markdown",
   "metadata": {},
   "source": [
    "A reduce function aggregates the dataset as needed"
   ]
  },
  {
   "cell_type": "code",
   "execution_count": 6,
   "metadata": {},
   "outputs": [
    {
     "data": {
      "text/plain": [
       "{'Swansea': 11200, 'London': 11800, 'Paris': 6100}"
      ]
     },
     "execution_count": 6,
     "metadata": {},
     "output_type": "execute_result"
    }
   ],
   "source": [
    "import functools\n",
    "\n",
    "def get_sum(total, item):\n",
    "    return  total + item\n",
    "\n",
    "result = {}\n",
    "for key, val in partitions.items():\n",
    "    result[key] = functools.reduce(get_sum, val)\n",
    "    \n",
    "result"
   ]
  }
 ],
 "metadata": {
  "kernelspec": {
   "display_name": "Python 3",
   "language": "python",
   "name": "python3"
  },
  "language_info": {
   "codemirror_mode": {
    "name": "ipython",
    "version": 3
   },
   "file_extension": ".py",
   "mimetype": "text/x-python",
   "name": "python",
   "nbconvert_exporter": "python",
   "pygments_lexer": "ipython3",
   "version": "3.7.4"
  }
 },
 "nbformat": 4,
 "nbformat_minor": 2
}
