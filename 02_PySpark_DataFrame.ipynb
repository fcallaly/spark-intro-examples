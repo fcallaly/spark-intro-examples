{
 "cells": [
  {
   "cell_type": "code",
   "execution_count": 1,
   "metadata": {},
   "outputs": [],
   "source": [
    "# import os\n",
    "# os.environ['PYSPARK_PYTHON'] = 'python'"
   ]
  },
  {
   "cell_type": "code",
   "execution_count": 2,
   "metadata": {},
   "outputs": [],
   "source": [
    "import pyspark"
   ]
  },
  {
   "cell_type": "markdown",
   "metadata": {},
   "source": [
    "We configure our \"SparkContext\" at the start - e.g. configuration options to be passed to all worker/executor nodes"
   ]
  },
  {
   "cell_type": "code",
   "execution_count": 3,
   "metadata": {},
   "outputs": [],
   "source": [
    "# NOTE - we're running in 'local' context, this could be changed later to use a resource/cluster manager e.g.YARN\n",
    "# conf = pyspark.SparkConf().setMaster('yarn').setAppName('YarnSparkTest')\n",
    "\n",
    "from pyspark.sql import SparkSession\n",
    "\n",
    "sparkSession = SparkSession.builder.master('local[*]').appName('LocalSparkSql').getOrCreate()"
   ]
  },
  {
   "cell_type": "code",
   "execution_count": 4,
   "metadata": {},
   "outputs": [
    {
     "data": {
      "text/html": [
       "\n",
       "            <div>\n",
       "                <p><b>SparkSession - in-memory</b></p>\n",
       "                \n",
       "        <div>\n",
       "            <p><b>SparkContext</b></p>\n",
       "\n",
       "            <p><a href=\"http://172.31.42.139:4040\">Spark UI</a></p>\n",
       "\n",
       "            <dl>\n",
       "              <dt>Version</dt>\n",
       "                <dd><code>v3.2.0</code></dd>\n",
       "              <dt>Master</dt>\n",
       "                <dd><code>local[*]</code></dd>\n",
       "              <dt>AppName</dt>\n",
       "                <dd><code>LocalSparkSql</code></dd>\n",
       "            </dl>\n",
       "        </div>\n",
       "        \n",
       "            </div>\n",
       "        "
      ],
      "text/plain": [
       "<pyspark.sql.session.SparkSession at 0x275a0686248>"
      ]
     },
     "execution_count": 4,
     "metadata": {},
     "output_type": "execute_result"
    }
   ],
   "source": [
    "sparkSession"
   ]
  },
  {
   "cell_type": "markdown",
   "metadata": {},
   "source": [
    "Read the Macbeth file from the local filesystem and count the words on each line"
   ]
  },
  {
   "cell_type": "code",
   "execution_count": 5,
   "metadata": {},
   "outputs": [],
   "source": [
    "# Update if the file is somewhere else relative to the notebook\n",
    "FILEPATH = ''\n",
    "\n",
    "# e.g. if in a hadoop context, would commonly read from HDFS or S3\n",
    "#FILEPATH = \"hdfs://hadoop-master:9000/user/ec2-user/\""
   ]
  },
  {
   "cell_type": "code",
   "execution_count": 6,
   "metadata": {},
   "outputs": [
    {
     "name": "stdout",
     "output_type": "stream",
     "text": [
      "5741\n"
     ]
    },
    {
     "data": {
      "text/plain": [
       "[Row(id='1', Name='Goroka Airport', City='Goroka', Country='Papua New Guinea', iataCode='GKA', icaoCode='AYGA', latitude='-6.081689834590001', longitude='145.391998291', altitude='5282', timezone='10', dst='U', timezoneOlsonFormat='Pacific/Port_Moresby', installationType='airport', datasource='OurAirports'),\n",
       " Row(id='2', Name='Madang Airport', City='Madang', Country='Papua New Guinea', iataCode='MAG', icaoCode='AYMD', latitude='-5.20707988739', longitude='145.789001465', altitude='20', timezone='10', dst='U', timezoneOlsonFormat='Pacific/Port_Moresby', installationType='airport', datasource='OurAirports'),\n",
       " Row(id='3', Name='Mount Hagen Kagamuga Airport', City='Mount Hagen', Country='Papua New Guinea', iataCode='HGU', icaoCode='AYMH', latitude='-5.826789855957031', longitude='144.29600524902344', altitude='5388', timezone='10', dst='U', timezoneOlsonFormat='Pacific/Port_Moresby', installationType='airport', datasource='OurAirports'),\n",
       " Row(id='4', Name='Nadzab Airport', City='Nadzab', Country='Papua New Guinea', iataCode='LAE', icaoCode='AYNZ', latitude='-6.569803', longitude='146.725977', altitude='239', timezone='10', dst='U', timezoneOlsonFormat='Pacific/Port_Moresby', installationType='airport', datasource='OurAirports'),\n",
       " Row(id='5', Name='Port Moresby Jacksons International Airport', City='Port Moresby', Country='Papua New Guinea', iataCode='POM', icaoCode='AYPY', latitude='-9.443380355834961', longitude='147.22000122070312', altitude='146', timezone='10', dst='U', timezoneOlsonFormat='Pacific/Port_Moresby', installationType='airport', datasource='OurAirports')]"
      ]
     },
     "execution_count": 6,
     "metadata": {},
     "output_type": "execute_result"
    }
   ],
   "source": [
    "airportsDf = sparkSession.read.csv(FILEPATH + \"airports.csv\", header=True)\n",
    "\n",
    "# Some spark dataframe operations - count and \"take\"\n",
    "print(airportsDf.count())\n",
    "airportsDf.take(5)"
   ]
  },
  {
   "cell_type": "code",
   "execution_count": 7,
   "metadata": {},
   "outputs": [
    {
     "name": "stdout",
     "output_type": "stream",
     "text": [
      "+---+--------------------+------------+----------------+--------+--------+------------------+------------------+--------+--------+---+--------------------+----------------+-----------+\n",
      "| id|                Name|        City|         Country|iataCode|icaoCode|          latitude|         longitude|altitude|timezone|dst| timezoneOlsonFormat|installationType| datasource|\n",
      "+---+--------------------+------------+----------------+--------+--------+------------------+------------------+--------+--------+---+--------------------+----------------+-----------+\n",
      "|  1|      Goroka Airport|      Goroka|Papua New Guinea|     GKA|    AYGA|-6.081689834590001|     145.391998291|    5282|      10|  U|Pacific/Port_Moresby|         airport|OurAirports|\n",
      "|  2|      Madang Airport|      Madang|Papua New Guinea|     MAG|    AYMD|    -5.20707988739|     145.789001465|      20|      10|  U|Pacific/Port_Moresby|         airport|OurAirports|\n",
      "|  3|Mount Hagen Kagam...| Mount Hagen|Papua New Guinea|     HGU|    AYMH|-5.826789855957031|144.29600524902344|    5388|      10|  U|Pacific/Port_Moresby|         airport|OurAirports|\n",
      "|  4|      Nadzab Airport|      Nadzab|Papua New Guinea|     LAE|    AYNZ|         -6.569803|        146.725977|     239|      10|  U|Pacific/Port_Moresby|         airport|OurAirports|\n",
      "|  5|Port Moresby Jack...|Port Moresby|Papua New Guinea|     POM|    AYPY|-9.443380355834961|147.22000122070312|     146|      10|  U|Pacific/Port_Moresby|         airport|OurAirports|\n",
      "+---+--------------------+------------+----------------+--------+--------+------------------+------------------+--------+--------+---+--------------------+----------------+-----------+\n",
      "only showing top 5 rows\n",
      "\n"
     ]
    }
   ],
   "source": [
    "# \"show\" is very similar to pandas \"head\" - in this case the data is potentially spread around a cluster\n",
    "airportsDf.show(5)"
   ]
  },
  {
   "cell_type": "markdown",
   "metadata": {},
   "source": [
    "### Clean the dataset by changing some datatypes"
   ]
  },
  {
   "cell_type": "code",
   "execution_count": 8,
   "metadata": {},
   "outputs": [
    {
     "data": {
      "text/plain": [
       "0"
      ]
     },
     "execution_count": 8,
     "metadata": {},
     "output_type": "execute_result"
    }
   ],
   "source": [
    "airportsDf.filter( airportsDf['iataCode'].isNull() ).count()"
   ]
  },
  {
   "cell_type": "code",
   "execution_count": 9,
   "metadata": {},
   "outputs": [
    {
     "name": "stdout",
     "output_type": "stream",
     "text": [
      "original dtypes:  [('id', 'string'), ('Name', 'string'), ('City', 'string'), ('Country', 'string'), ('iataCode', 'string'), ('icaoCode', 'string'), ('latitude', 'string'), ('longitude', 'string'), ('altitude', 'string'), ('timezone', 'string'), ('dst', 'string'), ('timezoneOlsonFormat', 'string'), ('installationType', 'string'), ('datasource', 'string')]\n",
      "\n",
      "updated dtypes:  [('id', 'string'), ('Name', 'string'), ('City', 'string'), ('Country', 'string'), ('iataCode', 'string'), ('icaoCode', 'string'), ('latitude', 'double'), ('longitude', 'double'), ('altitude', 'string'), ('timezone', 'string'), ('dst', 'string'), ('timezoneOlsonFormat', 'string'), ('installationType', 'string'), ('datasource', 'string')]\n"
     ]
    }
   ],
   "source": [
    "from pyspark.sql.types import DoubleType\n",
    "\n",
    "print(\"original dtypes: \", airportsDf.dtypes)\n",
    "print() # empty line\n",
    "\n",
    "# change datatypes from string to double\n",
    "airportsDf = airportsDf.withColumn(\"latitude\", airportsDf[\"latitude\"].cast(DoubleType()))\n",
    "airportsDf = airportsDf.withColumn(\"longitude\", airportsDf[\"longitude\"].cast(DoubleType()))\n",
    "\n",
    "print(\"updated dtypes: \", airportsDf.dtypes)"
   ]
  },
  {
   "cell_type": "markdown",
   "metadata": {},
   "source": [
    "**Spark Dataframe filtering - similar, though slightly different from pandas syntax**"
   ]
  },
  {
   "cell_type": "code",
   "execution_count": 10,
   "metadata": {},
   "outputs": [
    {
     "name": "stdout",
     "output_type": "stream",
     "text": [
      "1742\n",
      "+---+--------------------+------------+----------------+--------+--------+------------------+------------------+--------+--------+---+--------------------+----------------+-----------+\n",
      "| id|                Name|        City|         Country|iataCode|icaoCode|          latitude|         longitude|altitude|timezone|dst| timezoneOlsonFormat|installationType| datasource|\n",
      "+---+--------------------+------------+----------------+--------+--------+------------------+------------------+--------+--------+---+--------------------+----------------+-----------+\n",
      "|  1|      Goroka Airport|      Goroka|Papua New Guinea|     GKA|    AYGA|-6.081689834590001|     145.391998291|    5282|      10|  U|Pacific/Port_Moresby|         airport|OurAirports|\n",
      "|  2|      Madang Airport|      Madang|Papua New Guinea|     MAG|    AYMD|    -5.20707988739|     145.789001465|      20|      10|  U|Pacific/Port_Moresby|         airport|OurAirports|\n",
      "|  3|Mount Hagen Kagam...| Mount Hagen|Papua New Guinea|     HGU|    AYMH|-5.826789855957031|144.29600524902344|    5388|      10|  U|Pacific/Port_Moresby|         airport|OurAirports|\n",
      "|  4|      Nadzab Airport|      Nadzab|Papua New Guinea|     LAE|    AYNZ|         -6.569803|        146.725977|     239|      10|  U|Pacific/Port_Moresby|         airport|OurAirports|\n",
      "|  5|Port Moresby Jack...|Port Moresby|Papua New Guinea|     POM|    AYPY|-9.443380355834961|147.22000122070312|     146|      10|  U|Pacific/Port_Moresby|         airport|OurAirports|\n",
      "+---+--------------------+------------+----------------+--------+--------+------------------+------------------+--------+--------+---+--------------------+----------------+-----------+\n",
      "only showing top 5 rows\n",
      "\n"
     ]
    }
   ],
   "source": [
    "# As with all spark operations, we filter the dataframe (RDD) and produce a NEW dataframe (RDD)\n",
    "tropAirports = airportsDf.filter((airportsDf[\"latitude\"] > -23) & (airportsDf[\"latitude\"] < 23))\n",
    "print(tropAirports.count())\n",
    "tropAirports.show(5)"
   ]
  },
  {
   "cell_type": "markdown",
   "metadata": {},
   "source": [
    "**We can use SQL to query spark DataFrames**\n",
    "\n",
    "First use createOrReplaceTempView to create a representation of the table in memory"
   ]
  },
  {
   "cell_type": "code",
   "execution_count": 11,
   "metadata": {},
   "outputs": [
    {
     "data": {
      "text/plain": [
       "[Row(Country='Chad'),\n",
       " Row(Country='Paraguay'),\n",
       " Row(Country='Anguilla'),\n",
       " Row(Country='British Indian Ocean Territory'),\n",
       " Row(Country='Yemen'),\n",
       " Row(Country='Senegal'),\n",
       " Row(Country='Kiribati'),\n",
       " Row(Country='Guyana'),\n",
       " Row(Country='Philippines'),\n",
       " Row(Country='Burma'),\n",
       " Row(Country='Eritrea'),\n",
       " Row(Country='Tonga'),\n",
       " Row(Country='Djibouti'),\n",
       " Row(Country='Malaysia'),\n",
       " Row(Country='Singapore'),\n",
       " Row(Country='Fiji'),\n",
       " Row(Country='Malawi'),\n",
       " Row(Country='Northern Mariana Islands'),\n",
       " Row(Country='Comoros'),\n",
       " Row(Country='Cambodia'),\n",
       " Row(Country='Saint Helena'),\n",
       " Row(Country='Rwanda'),\n",
       " Row(Country='Maldives'),\n",
       " Row(Country='Sudan'),\n",
       " Row(Country='Palau'),\n",
       " Row(Country='Turks and Caicos Islands'),\n",
       " Row(Country='France'),\n",
       " Row(Country='Sri Lanka'),\n",
       " Row(Country='Montserrat'),\n",
       " Row(Country='Taiwan'),\n",
       " Row(Country='Dominica'),\n",
       " Row(Country='British Virgin Islands'),\n",
       " Row(Country='Algeria'),\n",
       " Row(Country='Togo'),\n",
       " Row(Country='Equatorial Guinea'),\n",
       " Row(Country='Reunion'),\n",
       " Row(Country='Macau'),\n",
       " Row(Country='Argentina'),\n",
       " Row(Country='Angola'),\n",
       " Row(Country='East Timor'),\n",
       " Row(Country='Ecuador'),\n",
       " Row(Country='Madagascar'),\n",
       " Row(Country='New Caledonia'),\n",
       " Row(Country='Ghana'),\n",
       " Row(Country='Nicaragua'),\n",
       " Row(Country='Benin'),\n",
       " Row(Country='Sierra Leone'),\n",
       " Row(Country='Peru'),\n",
       " Row(Country='Bahamas'),\n",
       " Row(Country='India'),\n",
       " Row(Country='China'),\n",
       " Row(Country='United States'),\n",
       " Row(Country='American Samoa'),\n",
       " Row(Country='Sao Tome and Principe'),\n",
       " Row(Country='Somalia'),\n",
       " Row(Country='Marshall Islands'),\n",
       " Row(Country='Tuvalu'),\n",
       " Row(Country='Chile'),\n",
       " Row(Country='Puerto Rico'),\n",
       " Row(Country='Martinique'),\n",
       " Row(Country='Cayman Islands'),\n",
       " Row(Country='Burundi'),\n",
       " Row(Country='Nigeria'),\n",
       " Row(Country='Bolivia'),\n",
       " Row(Country='Virgin Islands'),\n",
       " Row(Country='Gabon'),\n",
       " Row(Country='Suriname'),\n",
       " Row(Country='Netherlands Antilles'),\n",
       " Row(Country='Cuba'),\n",
       " Row(Country='Mauritania'),\n",
       " Row(Country='Guadeloupe'),\n",
       " Row(Country='Congo (Kinshasa)'),\n",
       " Row(Country='Niger'),\n",
       " Row(Country='Central African Republic'),\n",
       " Row(Country='Barbados'),\n",
       " Row(Country='Bangladesh'),\n",
       " Row(Country='Laos'),\n",
       " Row(Country='Thailand'),\n",
       " Row(Country='Christmas Island'),\n",
       " Row(Country='Cocos (Keeling) Islands'),\n",
       " Row(Country='Cape Verde'),\n",
       " Row(Country='Panama'),\n",
       " Row(Country='Hong Kong'),\n",
       " Row(Country='Nauru'),\n",
       " Row(Country='Venezuela'),\n",
       " Row(Country='Saint Kitts and Nevis'),\n",
       " Row(Country='French Polynesia'),\n",
       " Row(Country='Oman'),\n",
       " Row(Country=\"Cote d'Ivoire\"),\n",
       " Row(Country='Mexico'),\n",
       " Row(Country='Aruba'),\n",
       " Row(Country='Zimbabwe'),\n",
       " Row(Country='Indonesia'),\n",
       " Row(Country='Saint Vincent and the Grenadines'),\n",
       " Row(Country='Guatemala'),\n",
       " Row(Country='Guam'),\n",
       " Row(Country='Grenada'),\n",
       " Row(Country='Liberia'),\n",
       " Row(Country='Honduras'),\n",
       " Row(Country='Trinidad and Tobago'),\n",
       " Row(Country='Congo (Brazzaville)'),\n",
       " Row(Country='Saudi Arabia'),\n",
       " Row(Country='Uganda'),\n",
       " Row(Country='Wallis and Futuna'),\n",
       " Row(Country='French Guiana'),\n",
       " Row(Country='Mayotte'),\n",
       " Row(Country='Namibia'),\n",
       " Row(Country='Zambia'),\n",
       " Row(Country='Ethiopia'),\n",
       " Row(Country='Jamaica'),\n",
       " Row(Country='South Sudan'),\n",
       " Row(Country='Brunei'),\n",
       " Row(Country='Johnston Atoll'),\n",
       " Row(Country='Saint Lucia'),\n",
       " Row(Country='Guinea'),\n",
       " Row(Country='Seychelles'),\n",
       " Row(Country='Samoa'),\n",
       " Row(Country='Mozambique'),\n",
       " Row(Country='Cook Islands'),\n",
       " Row(Country='Belize'),\n",
       " Row(Country='Brazil'),\n",
       " Row(Country='Gambia'),\n",
       " Row(Country='Kenya'),\n",
       " Row(Country='Antigua and Barbuda'),\n",
       " Row(Country='Dominican Republic'),\n",
       " Row(Country='Botswana'),\n",
       " Row(Country='Tanzania'),\n",
       " Row(Country='Haiti'),\n",
       " Row(Country='Papua New Guinea'),\n",
       " Row(Country='Cameroon'),\n",
       " Row(Country='Australia'),\n",
       " Row(Country='Guinea-Bissau'),\n",
       " Row(Country='Solomon Islands'),\n",
       " Row(Country='Egypt'),\n",
       " Row(Country='Costa Rica'),\n",
       " Row(Country='El Salvador'),\n",
       " Row(Country='Burkina Faso'),\n",
       " Row(Country='Micronesia'),\n",
       " Row(Country='Colombia'),\n",
       " Row(Country='Vanuatu'),\n",
       " Row(Country='Niue'),\n",
       " Row(Country='Mauritius'),\n",
       " Row(Country='Vietnam'),\n",
       " Row(Country='Mali')]"
      ]
     },
     "execution_count": 11,
     "metadata": {},
     "output_type": "execute_result"
    }
   ],
   "source": [
    "tropAirports.createOrReplaceTempView(\"tropAirports\")\n",
    "\n",
    "sparkSession.sql(\"SELECT DISTINCT(Country) FROM tropAirports\").collect()"
   ]
  },
  {
   "cell_type": "code",
   "execution_count": 12,
   "metadata": {},
   "outputs": [
    {
     "name": "stdout",
     "output_type": "stream",
     "text": [
      "+--------+\n",
      "|count(1)|\n",
      "+--------+\n",
      "|      51|\n",
      "+--------+\n",
      "\n"
     ]
    }
   ],
   "source": [
    "sparkSession.sql('SELECT COUNT(*) FROM tropAirports WHERE Country = \"Papua New Guinea\"').show();"
   ]
  },
  {
   "cell_type": "markdown",
   "metadata": {},
   "source": [
    "**We could save the filtered table back to a filesystem or a database**"
   ]
  },
  {
   "cell_type": "code",
   "execution_count": 13,
   "metadata": {},
   "outputs": [],
   "source": [
    "# Write a dataframe as csv to HDFS - similar to pandas to_csv\n",
    "# tropAirports.write.format(\"csv\").save(\"hdfs://hadoop-master:9000/user/ec2-user/tropAirports.csv\", header=True)"
   ]
  },
  {
   "cell_type": "markdown",
   "metadata": {},
   "source": [
    "**Once the dataframe is cut down to a manageable size, we may choose to convert to a pandas dataframe for further processing**"
   ]
  },
  {
   "cell_type": "code",
   "execution_count": 14,
   "metadata": {},
   "outputs": [
    {
     "name": "stdout",
     "output_type": "stream",
     "text": [
      "<class 'pyspark.sql.dataframe.DataFrame'>\n",
      "<class 'pandas.core.frame.DataFrame'>\n"
     ]
    },
    {
     "data": {
      "text/html": [
       "<div>\n",
       "<style scoped>\n",
       "    .dataframe tbody tr th:only-of-type {\n",
       "        vertical-align: middle;\n",
       "    }\n",
       "\n",
       "    .dataframe tbody tr th {\n",
       "        vertical-align: top;\n",
       "    }\n",
       "\n",
       "    .dataframe thead th {\n",
       "        text-align: right;\n",
       "    }\n",
       "</style>\n",
       "<table border=\"1\" class=\"dataframe\">\n",
       "  <thead>\n",
       "    <tr style=\"text-align: right;\">\n",
       "      <th></th>\n",
       "      <th>id</th>\n",
       "      <th>Name</th>\n",
       "      <th>City</th>\n",
       "      <th>Country</th>\n",
       "      <th>icaoCode</th>\n",
       "      <th>latitude</th>\n",
       "      <th>longitude</th>\n",
       "      <th>altitude</th>\n",
       "      <th>timezone</th>\n",
       "      <th>dst</th>\n",
       "      <th>timezoneOlsonFormat</th>\n",
       "      <th>installationType</th>\n",
       "      <th>datasource</th>\n",
       "    </tr>\n",
       "    <tr>\n",
       "      <th>iataCode</th>\n",
       "      <th></th>\n",
       "      <th></th>\n",
       "      <th></th>\n",
       "      <th></th>\n",
       "      <th></th>\n",
       "      <th></th>\n",
       "      <th></th>\n",
       "      <th></th>\n",
       "      <th></th>\n",
       "      <th></th>\n",
       "      <th></th>\n",
       "      <th></th>\n",
       "      <th></th>\n",
       "    </tr>\n",
       "  </thead>\n",
       "  <tbody>\n",
       "    <tr>\n",
       "      <th>GKA</th>\n",
       "      <td>1</td>\n",
       "      <td>Goroka Airport</td>\n",
       "      <td>Goroka</td>\n",
       "      <td>Papua New Guinea</td>\n",
       "      <td>AYGA</td>\n",
       "      <td>-6.081690</td>\n",
       "      <td>145.391998</td>\n",
       "      <td>5282</td>\n",
       "      <td>10</td>\n",
       "      <td>U</td>\n",
       "      <td>Pacific/Port_Moresby</td>\n",
       "      <td>airport</td>\n",
       "      <td>OurAirports</td>\n",
       "    </tr>\n",
       "    <tr>\n",
       "      <th>MAG</th>\n",
       "      <td>2</td>\n",
       "      <td>Madang Airport</td>\n",
       "      <td>Madang</td>\n",
       "      <td>Papua New Guinea</td>\n",
       "      <td>AYMD</td>\n",
       "      <td>-5.207080</td>\n",
       "      <td>145.789001</td>\n",
       "      <td>20</td>\n",
       "      <td>10</td>\n",
       "      <td>U</td>\n",
       "      <td>Pacific/Port_Moresby</td>\n",
       "      <td>airport</td>\n",
       "      <td>OurAirports</td>\n",
       "    </tr>\n",
       "    <tr>\n",
       "      <th>HGU</th>\n",
       "      <td>3</td>\n",
       "      <td>Mount Hagen Kagamuga Airport</td>\n",
       "      <td>Mount Hagen</td>\n",
       "      <td>Papua New Guinea</td>\n",
       "      <td>AYMH</td>\n",
       "      <td>-5.826790</td>\n",
       "      <td>144.296005</td>\n",
       "      <td>5388</td>\n",
       "      <td>10</td>\n",
       "      <td>U</td>\n",
       "      <td>Pacific/Port_Moresby</td>\n",
       "      <td>airport</td>\n",
       "      <td>OurAirports</td>\n",
       "    </tr>\n",
       "    <tr>\n",
       "      <th>LAE</th>\n",
       "      <td>4</td>\n",
       "      <td>Nadzab Airport</td>\n",
       "      <td>Nadzab</td>\n",
       "      <td>Papua New Guinea</td>\n",
       "      <td>AYNZ</td>\n",
       "      <td>-6.569803</td>\n",
       "      <td>146.725977</td>\n",
       "      <td>239</td>\n",
       "      <td>10</td>\n",
       "      <td>U</td>\n",
       "      <td>Pacific/Port_Moresby</td>\n",
       "      <td>airport</td>\n",
       "      <td>OurAirports</td>\n",
       "    </tr>\n",
       "    <tr>\n",
       "      <th>POM</th>\n",
       "      <td>5</td>\n",
       "      <td>Port Moresby Jacksons International Airport</td>\n",
       "      <td>Port Moresby</td>\n",
       "      <td>Papua New Guinea</td>\n",
       "      <td>AYPY</td>\n",
       "      <td>-9.443380</td>\n",
       "      <td>147.220001</td>\n",
       "      <td>146</td>\n",
       "      <td>10</td>\n",
       "      <td>U</td>\n",
       "      <td>Pacific/Port_Moresby</td>\n",
       "      <td>airport</td>\n",
       "      <td>OurAirports</td>\n",
       "    </tr>\n",
       "    <tr>\n",
       "      <th>...</th>\n",
       "      <td>...</td>\n",
       "      <td>...</td>\n",
       "      <td>...</td>\n",
       "      <td>...</td>\n",
       "      <td>...</td>\n",
       "      <td>...</td>\n",
       "      <td>...</td>\n",
       "      <td>...</td>\n",
       "      <td>...</td>\n",
       "      <td>...</td>\n",
       "      <td>...</td>\n",
       "      <td>...</td>\n",
       "      <td>...</td>\n",
       "    </tr>\n",
       "    <tr>\n",
       "      <th>TFM</th>\n",
       "      <td>6983</td>\n",
       "      <td>Telefomin Airport</td>\n",
       "      <td>Telefomin</td>\n",
       "      <td>Papua New Guinea</td>\n",
       "      <td>\\N</td>\n",
       "      <td>-5.117000</td>\n",
       "      <td>141.633000</td>\n",
       "      <td>0</td>\n",
       "      <td>10</td>\n",
       "      <td>U</td>\n",
       "      <td>Pacific/Port_Moresby</td>\n",
       "      <td>airport</td>\n",
       "      <td>User</td>\n",
       "    </tr>\n",
       "    <tr>\n",
       "      <th>\\N</th>\n",
       "      <td>6997</td>\n",
       "      <td>Palmar Airport</td>\n",
       "      <td>Santa Lucia</td>\n",
       "      <td>Peru</td>\n",
       "      <td>SLPA</td>\n",
       "      <td>-18.971666</td>\n",
       "      <td>-62.975334</td>\n",
       "      <td>1342</td>\n",
       "      <td>-4</td>\n",
       "      <td>U</td>\n",
       "      <td>America/La_Paz</td>\n",
       "      <td>airport</td>\n",
       "      <td>OurAirports</td>\n",
       "    </tr>\n",
       "    <tr>\n",
       "      <th>CZH</th>\n",
       "      <td>7029</td>\n",
       "      <td>Municipal</td>\n",
       "      <td>Corozal</td>\n",
       "      <td>Belize</td>\n",
       "      <td>\\N</td>\n",
       "      <td>18.382200</td>\n",
       "      <td>-88.411900</td>\n",
       "      <td>40</td>\n",
       "      <td>-6</td>\n",
       "      <td>N</td>\n",
       "      <td>America/Belize</td>\n",
       "      <td>unknown</td>\n",
       "      <td>User</td>\n",
       "    </tr>\n",
       "    <tr>\n",
       "      <th>\\N</th>\n",
       "      <td>7055</td>\n",
       "      <td>Hickam Air Force Base</td>\n",
       "      <td>Honolulu</td>\n",
       "      <td>United States</td>\n",
       "      <td>PHIK</td>\n",
       "      <td>21.318681</td>\n",
       "      <td>-157.922427</td>\n",
       "      <td>13</td>\n",
       "      <td>-10</td>\n",
       "      <td>N</td>\n",
       "      <td>Pacific/Honolulu</td>\n",
       "      <td>airport</td>\n",
       "      <td>User</td>\n",
       "    </tr>\n",
       "    <tr>\n",
       "      <th>CPQ</th>\n",
       "      <td>7125</td>\n",
       "      <td>Amarais Airport</td>\n",
       "      <td>Campinas</td>\n",
       "      <td>Brazil</td>\n",
       "      <td>SDAM</td>\n",
       "      <td>-22.859200</td>\n",
       "      <td>-47.108200</td>\n",
       "      <td>2008</td>\n",
       "      <td>-3</td>\n",
       "      <td>S</td>\n",
       "      <td>America/Sao_Paulo</td>\n",
       "      <td>airport</td>\n",
       "      <td>OurAirports</td>\n",
       "    </tr>\n",
       "  </tbody>\n",
       "</table>\n",
       "<p>1742 rows × 13 columns</p>\n",
       "</div>"
      ],
      "text/plain": [
       "            id                                         Name          City  \\\n",
       "iataCode                                                                    \n",
       "GKA          1                               Goroka Airport        Goroka   \n",
       "MAG          2                               Madang Airport        Madang   \n",
       "HGU          3                 Mount Hagen Kagamuga Airport   Mount Hagen   \n",
       "LAE          4                               Nadzab Airport        Nadzab   \n",
       "POM          5  Port Moresby Jacksons International Airport  Port Moresby   \n",
       "...        ...                                          ...           ...   \n",
       "TFM       6983                            Telefomin Airport     Telefomin   \n",
       "\\N        6997                               Palmar Airport   Santa Lucia   \n",
       "CZH       7029                                    Municipal       Corozal   \n",
       "\\N        7055                        Hickam Air Force Base      Honolulu   \n",
       "CPQ       7125                              Amarais Airport      Campinas   \n",
       "\n",
       "                   Country icaoCode   latitude   longitude altitude timezone  \\\n",
       "iataCode                                                                       \n",
       "GKA       Papua New Guinea     AYGA  -6.081690  145.391998     5282       10   \n",
       "MAG       Papua New Guinea     AYMD  -5.207080  145.789001       20       10   \n",
       "HGU       Papua New Guinea     AYMH  -5.826790  144.296005     5388       10   \n",
       "LAE       Papua New Guinea     AYNZ  -6.569803  146.725977      239       10   \n",
       "POM       Papua New Guinea     AYPY  -9.443380  147.220001      146       10   \n",
       "...                    ...      ...        ...         ...      ...      ...   \n",
       "TFM       Papua New Guinea       \\N  -5.117000  141.633000        0       10   \n",
       "\\N                    Peru     SLPA -18.971666  -62.975334     1342       -4   \n",
       "CZH                 Belize       \\N  18.382200  -88.411900       40       -6   \n",
       "\\N           United States     PHIK  21.318681 -157.922427       13      -10   \n",
       "CPQ                 Brazil     SDAM -22.859200  -47.108200     2008       -3   \n",
       "\n",
       "         dst   timezoneOlsonFormat installationType   datasource  \n",
       "iataCode                                                          \n",
       "GKA        U  Pacific/Port_Moresby          airport  OurAirports  \n",
       "MAG        U  Pacific/Port_Moresby          airport  OurAirports  \n",
       "HGU        U  Pacific/Port_Moresby          airport  OurAirports  \n",
       "LAE        U  Pacific/Port_Moresby          airport  OurAirports  \n",
       "POM        U  Pacific/Port_Moresby          airport  OurAirports  \n",
       "...       ..                   ...              ...          ...  \n",
       "TFM        U  Pacific/Port_Moresby          airport         User  \n",
       "\\N         U        America/La_Paz          airport  OurAirports  \n",
       "CZH        N        America/Belize          unknown         User  \n",
       "\\N         N      Pacific/Honolulu          airport         User  \n",
       "CPQ        S     America/Sao_Paulo          airport  OurAirports  \n",
       "\n",
       "[1742 rows x 13 columns]"
      ]
     },
     "metadata": {},
     "output_type": "display_data"
    }
   ],
   "source": [
    "pdTropAirports = tropAirports.toPandas()\n",
    "\n",
    "# pdTropAirports is a pandas Dataframe, the original was a spark dataframe\n",
    "print(type(tropAirports))\n",
    "print(type(pdTropAirports))\n",
    "\n",
    "# set IATA_CODE as the index\n",
    "pdTropAirports.set_index(\"iataCode\", inplace=True)\n",
    "display(pdTropAirports)"
   ]
  },
  {
   "cell_type": "code",
   "execution_count": 15,
   "metadata": {},
   "outputs": [
    {
     "data": {
      "text/plain": [
       "Country\n",
       "Mexico               48\n",
       "Thailand             50\n",
       "Papua New Guinea     51\n",
       "India                58\n",
       "Venezuela            58\n",
       "Philippines          59\n",
       "Colombia             61\n",
       "Australia            61\n",
       "Indonesia            99\n",
       "Brazil              109\n",
       "Name: Name, dtype: int64"
      ]
     },
     "metadata": {},
     "output_type": "display_data"
    },
    {
     "data": {
      "text/plain": [
       "<matplotlib.axes._subplots.AxesSubplot at 0x275a1d41b88>"
      ]
     },
     "execution_count": 15,
     "metadata": {},
     "output_type": "execute_result"
    },
    {
     "data": {
      "image/png": "[encoded data removed]",
      "text/plain": [
       "<Figure size 432x288 with 1 Axes>"
      ]
     },
     "metadata": {},
     "output_type": "display_data"
    }
   ],
   "source": [
    "# top countries\n",
    "topCountries = pdTropAirports.groupby('Country').count()['Name'].sort_values().tail(10)\n",
    "display(topCountries)\n",
    "\n",
    "\n",
    "topCountries.plot(kind=\"pie\")"
   ]
  }
 ],
 "metadata": {
  "kernelspec": {
   "display_name": "Python 3",
   "language": "python",
   "name": "python3"
  },
  "language_info": {
   "codemirror_mode": {
    "name": "ipython",
    "version": 3
   },
   "file_extension": ".py",
   "mimetype": "text/x-python",
   "name": "python",
   "nbconvert_exporter": "python",
   "pygments_lexer": "ipython3",
   "version": "3.7.6"
  }
 },
 "nbformat": 4,
 "nbformat_minor": 2
}
